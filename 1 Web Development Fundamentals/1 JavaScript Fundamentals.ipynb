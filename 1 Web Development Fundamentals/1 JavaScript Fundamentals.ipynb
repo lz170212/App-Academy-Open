{
 "cells": [
  {
   "attachments": {},
   "cell_type": "markdown",
   "metadata": {},
   "source": [
    "# JavaScript Fundamentals"
   ]
  },
  {
   "attachments": {},
   "cell_type": "markdown",
   "metadata": {},
   "source": [
    "## Data Types"
   ]
  },
  {
   "attachments": {},
   "cell_type": "markdown",
   "metadata": {},
   "source": [
    "### Hello World!"
   ]
  },
  {
   "cell_type": "code",
   "execution_count": 1,
   "metadata": {
    "vscode": {
     "languageId": "javascript"
    }
   },
   "outputs": [
    {
     "name": "stdout",
     "output_type": "stream",
     "text": [
      "Hello World!\n"
     ]
    }
   ],
   "source": [
    "%%script node\n",
    "console.log('Hello World!')"
   ]
  },
  {
   "cell_type": "code",
   "execution_count": 2,
   "metadata": {},
   "outputs": [
    {
     "name": "stdout",
     "output_type": "stream",
     "text": [
      "Hello World!\n"
     ]
    }
   ],
   "source": [
    "print('Hello World!')"
   ]
  },
  {
   "attachments": {},
   "cell_type": "markdown",
   "metadata": {},
   "source": [
    "### Numbers Exercise"
   ]
  },
  {
   "cell_type": "code",
   "execution_count": 1,
   "metadata": {
    "vscode": {
     "languageId": "javascript"
    }
   },
   "outputs": [
    {
     "name": "stdout",
     "output_type": "stream",
     "text": [
      "6.5\n",
      "2\n",
      "1\n",
      "1\n",
      "2\n",
      "1\n"
     ]
    }
   ],
   "source": [
    "%%script node\n",
    "// Example:\n",
    "console.log(4 + 2.5)   // 6.5\n",
    "\n",
    "// Write 5 more expressions below:\n",
    "console.log(1 + 1) // 2\n",
    "console.log(2 - 1) // 1\n",
    "console.log(1 * 1) // 1\n",
    "console.log(2/1) // 2\n",
    "console.log(5 % 2) // 1"
   ]
  },
  {
   "cell_type": "code",
   "execution_count": 2,
   "metadata": {},
   "outputs": [
    {
     "name": "stdout",
     "output_type": "stream",
     "text": [
      "6.5\n",
      "2\n",
      "1\n",
      "1\n",
      "2.0\n",
      "1\n"
     ]
    }
   ],
   "source": [
    "# Example:\n",
    "print(4 + 2.5)  \n",
    "\n",
    "# Write 5 more expressions below:\n",
    "print(1 + 1) \n",
    "print(2 - 1) \n",
    "print(1 * 1) \n",
    "print(2/1) \n",
    "print(5 % 2) "
   ]
  },
  {
   "attachments": {},
   "cell_type": "markdown",
   "metadata": {},
   "source": [
    "### Boolean Exercise"
   ]
  },
  {
   "cell_type": "code",
   "execution_count": 4,
   "metadata": {
    "vscode": {
     "languageId": "javascript"
    }
   },
   "outputs": [
    {
     "name": "stdout",
     "output_type": "stream",
     "text": [
      "false\n",
      "false\n",
      "true\n",
      "true\n"
     ]
    }
   ],
   "source": [
    "%%script node\n",
    "// Example:\n",
    "console.log(false || false)   // false\n",
    "\n",
    "// Write 3 more expressions below:\n",
    "console.log(true && false) // false\n",
    "console.log(true || false) // true\n",
    "console.log(!(true && false)) // true"
   ]
  },
  {
   "cell_type": "code",
   "execution_count": 3,
   "metadata": {},
   "outputs": [
    {
     "name": "stdout",
     "output_type": "stream",
     "text": [
      "False\n",
      "False\n",
      "True\n",
      "True\n"
     ]
    }
   ],
   "source": [
    "# Example:\n",
    "print(False or False)   \n",
    "\n",
    "# Write 3 more expressions below:\n",
    "print(True and False) \n",
    "print(True or False)\n",
    "print(not(True and False))"
   ]
  },
  {
   "attachments": {},
   "cell_type": "markdown",
   "metadata": {},
   "source": [
    "### Variables Practice"
   ]
  },
  {
   "cell_type": "code",
   "execution_count": 1,
   "metadata": {
    "vscode": {
     "languageId": "javascript"
    }
   },
   "outputs": [
    {
     "name": "stdout",
     "output_type": "stream",
     "text": [
      "XXX XXX undefined\n",
      "XXX XXX 18\n"
     ]
    }
   ],
   "source": [
    "%%script node\n",
    "// 1. Declare a variable called `firstName` and assign it your first name as a string:\n",
    "let firstName = \"XXX\";\n",
    "\n",
    "// 2. Declare a variable called `lastName` and assign it your last name as a string:\n",
    "let lastName = \"XXX\";\n",
    "\n",
    "// 3. Declare a variable called `age`:\n",
    "let age;\n",
    "\n",
    "// 4. Print out the `firstName`, `lastName`, and `age` variables. What do you\n",
    "//    expect them to be when they get printed?\n",
    "console.log(firstName, lastName, age)\n",
    "\n",
    "// 5. Assign the `age` variable to a number:\n",
    "age = 18;\n",
    "\n",
    "// 6. Print out the `firstName`, `lastName`, and `age` variables. What do you\n",
    "//    expect them to be when they get printed?\n",
    "console.log(firstName, lastName, age)"
   ]
  },
  {
   "cell_type": "code",
   "execution_count": 3,
   "metadata": {},
   "outputs": [
    {
     "name": "stdout",
     "output_type": "stream",
     "text": [
      "XXX XXX 18\n"
     ]
    }
   ],
   "source": [
    "firstName = \"XXX\"\n",
    "lastName = \"XXX\"\n",
    "age = 18\n",
    "print(firstName, lastName, age)"
   ]
  },
  {
   "attachments": {},
   "cell_type": "markdown",
   "metadata": {},
   "source": [
    "## Intro to Functions"
   ]
  },
  {
   "attachments": {},
   "cell_type": "markdown",
   "metadata": {},
   "source": [
    "### Goodbye"
   ]
  },
  {
   "cell_type": "code",
   "execution_count": 3,
   "metadata": {
    "vscode": {
     "languageId": "javascript"
    }
   },
   "outputs": [
    {
     "name": "stdout",
     "output_type": "stream",
     "text": [
      "Bye Daniel.\n",
      "Bye Mark.\n",
      "Bye Beyonce.\n"
     ]
    }
   ],
   "source": [
    "%%script node\n",
    "function goodbye(name) {\n",
    "    // your code here...\n",
    "    return \"Bye\"+\" \"+name+\".\";\n",
    "  }\n",
    "  \n",
    "  console.log(goodbye(\"Daniel\")); // => \"Bye Daniel.\"\n",
    "  console.log(goodbye(\"Mark\")); // => \"Bye Mark.\"\n",
    "  console.log(goodbye(\"Beyonce\")); // => \"Bye Beyonce.\""
   ]
  },
  {
   "cell_type": "code",
   "execution_count": 4,
   "metadata": {},
   "outputs": [
    {
     "name": "stdout",
     "output_type": "stream",
     "text": [
      "Bye Daniel.\n",
      "Bye Mark.\n",
      "Bye Beyonce.\n"
     ]
    }
   ],
   "source": [
    "def goodbye(name):\n",
    "    return \"Bye\"+\" \"+name+\".\"\n",
    "    \n",
    "print(goodbye(\"Daniel\"))\n",
    "print(goodbye(\"Mark\"))\n",
    "print(goodbye(\"Beyonce\"))"
   ]
  },
  {
   "attachments": {},
   "cell_type": "markdown",
   "metadata": {},
   "source": [
    "### Muscle Memory"
   ]
  },
  {
   "cell_type": "code",
   "execution_count": 5,
   "metadata": {
    "vscode": {
     "languageId": "javascript"
    }
   },
   "outputs": [
    {
     "name": "stdout",
     "output_type": "stream",
     "text": [
      "Hello, world. How are you?\n",
      "Good Morning, Momo. What's up?\n",
      "Please double check, Jay. There's something wrong.\n"
     ]
    }
   ],
   "source": [
    "%%script node\n",
    "function sayHello(name) {\n",
    "  let msg = \"Hello, \" + name + \". How are you?\";\n",
    "  return msg;\n",
    "}\n",
    "\n",
    "console.log(sayHello(\"world\"));\n",
    "\n",
    "function sayGoodMorning(name) {\n",
    "  let msg = \"Good Morning, \" + name + \". What's up?\";\n",
    "  return msg;\n",
    "}\n",
    "\n",
    "console.log(sayGoodMorning(\"Momo\"));\n",
    "\n",
    "function sayDoubleCheck(name) {\n",
    "  let msg = \"Please double check, \" + name + \". There's something wrong.\";\n",
    "  return msg;\n",
    "}\n",
    "\n",
    "console.log(sayDoubleCheck(\"Jay\"));"
   ]
  },
  {
   "cell_type": "code",
   "execution_count": 6,
   "metadata": {},
   "outputs": [
    {
     "name": "stdout",
     "output_type": "stream",
     "text": [
      "Hello, Jay. How are you?\n"
     ]
    }
   ],
   "source": [
    "def sayHello(name):\n",
    "    msg = \"Hello, \" + name + \". How are you?\"\n",
    "    return msg\n",
    "print(sayHello(\"Jay\"))"
   ]
  },
  {
   "attachments": {},
   "cell_type": "markdown",
   "metadata": {},
   "source": [
    "### Plus 5"
   ]
  },
  {
   "cell_type": "code",
   "execution_count": 7,
   "metadata": {
    "vscode": {
     "languageId": "javascript"
    }
   },
   "outputs": [
    {
     "name": "stdout",
     "output_type": "stream",
     "text": [
      "15\n",
      "7\n",
      "-3\n"
     ]
    }
   ],
   "source": [
    "%%script node\n",
    "function plusFive(num) {\n",
    "  // your code here...\n",
    "  let result = num + 5;\n",
    "  return result;\n",
    "}\n",
    "\n",
    "console.log(plusFive(10));  // => 15\n",
    "console.log(plusFive(2));   // => 7\n",
    "console.log(plusFive(-8));  // => -3"
   ]
  },
  {
   "cell_type": "code",
   "execution_count": 8,
   "metadata": {},
   "outputs": [
    {
     "name": "stdout",
     "output_type": "stream",
     "text": [
      "15\n"
     ]
    }
   ],
   "source": [
    "def plusFive(num):\n",
    "    result = num + 5\n",
    "    return result\n",
    "print(plusFive(10))"
   ]
  },
  {
   "attachments": {},
   "cell_type": "markdown",
   "metadata": {},
   "source": [
    "### Call This Function"
   ]
  },
  {
   "cell_type": "code",
   "execution_count": 11,
   "metadata": {
    "vscode": {
     "languageId": "javascript"
    }
   },
   "outputs": [
    {
     "name": "stdout",
     "output_type": "stream",
     "text": [
      "Music is cool!\n",
      "JavaScript is cool!\n",
      "The world is cool!\n"
     ]
    }
   ],
   "source": [
    "%%script node\n",
    "function isCool(string) {\n",
    "  let coolSentence = string + \" is cool!\"\n",
    "  console.log(coolSentence)\n",
    "  return coolSentence\n",
    "}\n",
    "\n",
    "// Call the above function passing in the below arguments:\n",
    "// Music\n",
    "// JavaScript\n",
    "// The world\n",
    "isCool(\"Music\")\n",
    "isCool(\"JavaScript\")\n",
    "isCool(\"The world\")"
   ]
  },
  {
   "cell_type": "code",
   "execution_count": 15,
   "metadata": {},
   "outputs": [
    {
     "name": "stdout",
     "output_type": "stream",
     "text": [
      "Music is cool!\n",
      "Python is cool!\n"
     ]
    }
   ],
   "source": [
    "def isCool(string):\n",
    "    sentence = string + \" is cool!\"\n",
    "    return sentence\n",
    "print(isCool(\"Music\"))\n",
    "print(isCool(\"Python\"))"
   ]
  },
  {
   "attachments": {},
   "cell_type": "markdown",
   "metadata": {},
   "source": [
    "### Average of Two"
   ]
  },
  {
   "cell_type": "code",
   "execution_count": null,
   "metadata": {
    "vscode": {
     "languageId": "javascript"
    }
   },
   "outputs": [],
   "source": [
    "%%script node\n",
    "function averageOfTwo(num1, num2) {\n",
    "  // your code here...\n",
    "  let result = (num1 + num2)/2;\n",
    "  return result;\n",
    "}\n",
    "\n",
    "console.log(averageOfTwo(3, 7)); // => 5.0\n",
    "console.log(averageOfTwo(16, 5)); // => 10.5\n",
    "console.log(averageOfTwo(2, 7.5)); // => 4.75"
   ]
  },
  {
   "cell_type": "code",
   "execution_count": 16,
   "metadata": {},
   "outputs": [
    {
     "name": "stdout",
     "output_type": "stream",
     "text": [
      "5.0\n"
     ]
    }
   ],
   "source": [
    "def averageOfTwo(num1, num2):\n",
    "    result = (num1 + num2)/2\n",
    "    return result\n",
    "print(averageOfTwo(3, 7))"
   ]
  },
  {
   "attachments": {},
   "cell_type": "markdown",
   "metadata": {},
   "source": [
    "### Hello"
   ]
  },
  {
   "cell_type": "code",
   "execution_count": 17,
   "metadata": {
    "vscode": {
     "languageId": "javascript"
    }
   },
   "outputs": [
    {
     "name": "stdout",
     "output_type": "stream",
     "text": [
      "Hello, cat\n",
      "Hello, Helen\n",
      "Hello, Sting\n"
     ]
    }
   ],
   "source": [
    "%%script node\n",
    "function hello(str) {\n",
    "  // your code here...\n",
    "  console.log(\"Hello, \"+str);\n",
    "}\n",
    "\n",
    "hello(\"cat\"); // prints \"Hello, cat\"\n",
    "hello(\"Helen\"); // prints \"Hello, Helen\"\n",
    "hello(\"Sting\"); // prints \"Hello, Sting\""
   ]
  },
  {
   "cell_type": "code",
   "execution_count": 18,
   "metadata": {},
   "outputs": [
    {
     "name": "stdout",
     "output_type": "stream",
     "text": [
      "Hello, cat\n"
     ]
    }
   ],
   "source": [
    "def hello(str):\n",
    "    print(\"Hello, \"+str)\n",
    "hello(\"cat\")"
   ]
  },
  {
   "attachments": {},
   "cell_type": "markdown",
   "metadata": {},
   "source": [
    "### Divide by Three"
   ]
  },
  {
   "cell_type": "code",
   "execution_count": null,
   "metadata": {
    "vscode": {
     "languageId": "javascript"
    }
   },
   "outputs": [],
   "source": [
    "%%script node\n",
    "function divideByThree(num) {\n",
    "  // your code here...\n",
    "  return num/3;\n",
    "}\n",
    "\n",
    "console.log(divideByThree(9)); // => 3.0\n",
    "console.log(divideByThree(15)); // => 5.0\n",
    "console.log(divideByThree(98)); // => 32.666666666666664"
   ]
  },
  {
   "cell_type": "code",
   "execution_count": 19,
   "metadata": {},
   "outputs": [
    {
     "name": "stdout",
     "output_type": "stream",
     "text": [
      "5.0\n"
     ]
    }
   ],
   "source": [
    "def divideByThree(num):\n",
    "    return num/3\n",
    "\n",
    "print(divideByThree(15))"
   ]
  },
  {
   "attachments": {},
   "cell_type": "markdown",
   "metadata": {},
   "source": [
    "### Whisper"
   ]
  },
  {
   "cell_type": "code",
   "execution_count": 20,
   "metadata": {
    "vscode": {
     "languageId": "javascript"
    }
   },
   "outputs": [
    {
     "name": "stdout",
     "output_type": "stream",
     "text": [
      "...hey buddy...\n",
      "...yea! that was fun...\n"
     ]
    }
   ],
   "source": [
    "%%script node\n",
    "function whisper(str) {\n",
    "    // your code here...\n",
    "    let sentence = \"...\"+str.toLowerCase()+\"...\";\n",
    "    return sentence;\n",
    "  }\n",
    "  \n",
    "  console.log(whisper(\"Hey Buddy\")); // => \"...hey buddy...\"\n",
    "  console.log(whisper(\"YEA! that was fun\")); // => \"...yea! that was fun...\""
   ]
  },
  {
   "cell_type": "code",
   "execution_count": 21,
   "metadata": {},
   "outputs": [
    {
     "name": "stdout",
     "output_type": "stream",
     "text": [
      "...hey buddy...\n"
     ]
    }
   ],
   "source": [
    "def whisper(str):\n",
    "    sentence = \"...\"+str.lower()+\"...\"\n",
    "    return sentence\n",
    "print(whisper(\"Hey Buddy\"))"
   ]
  },
  {
   "attachments": {},
   "cell_type": "markdown",
   "metadata": {},
   "source": [
    "### Average of Four"
   ]
  },
  {
   "cell_type": "code",
   "execution_count": null,
   "metadata": {
    "vscode": {
     "languageId": "javascript"
    }
   },
   "outputs": [],
   "source": [
    "%%script node\n",
    "function averageOfFour(num1, num2, num3, num4){\n",
    "    let average = (num1 + num2 + num3 + num4)/4;\n",
    "    return average;\n",
    "}\n",
    "\n",
    "console.log(averageOfFour(10, 10, 15, 5)); // => 10\n",
    "console.log(averageOfFour(3, 10, 11, 4)); // => 7\n",
    "console.log(averageOfFour(1, 2, 3, 4)); // => 2.5"
   ]
  },
  {
   "cell_type": "code",
   "execution_count": 1,
   "metadata": {},
   "outputs": [
    {
     "name": "stdout",
     "output_type": "stream",
     "text": [
      "10.0\n"
     ]
    }
   ],
   "source": [
    "def averageOfFour(num1, num2, num3, num4):\n",
    "    average = (num1 + num2 + num3 + num4)/4\n",
    "    return average\n",
    "print(averageOfFour(10, 10, 15, 5))"
   ]
  },
  {
   "attachments": {},
   "cell_type": "markdown",
   "metadata": {},
   "source": [
    "### Yell"
   ]
  },
  {
   "cell_type": "code",
   "execution_count": null,
   "metadata": {
    "vscode": {
     "languageId": "javascript"
    }
   },
   "outputs": [],
   "source": [
    "%%script node\n",
    "function yell(str) {\n",
    "  // your code here...  \n",
    "  let sentence = str.toUpperCase()+\"!!!\";\n",
    "  return sentence;\n",
    "}\n",
    "\n",
    "console.log(yell(\"I want to go to the store\")); // => \"I WANT TO GO TO THE STORE!!!\"\n",
    "console.log(yell(\"Time to program\")); // => \"TIME TO PROGRAM!!!\""
   ]
  },
  {
   "cell_type": "code",
   "execution_count": 2,
   "metadata": {},
   "outputs": [
    {
     "name": "stdout",
     "output_type": "stream",
     "text": [
      "I WANT TO GO TO THE STORE!!!\n"
     ]
    }
   ],
   "source": [
    "def yell(str):\n",
    "    sentence = str.upper() + \"!!!\"\n",
    "    return sentence\n",
    "print(yell(\"I want to go to the store\"))"
   ]
  },
  {
   "attachments": {},
   "cell_type": "markdown",
   "metadata": {},
   "source": [
    "### Echo"
   ]
  },
  {
   "cell_type": "code",
   "execution_count": null,
   "metadata": {
    "vscode": {
     "languageId": "javascript"
    }
   },
   "outputs": [],
   "source": [
    "%%script node\n",
    "function echo(string) {\n",
    "    // your code here...\n",
    "    let sentence = string.toUpperCase() +\"...\"+ string + \"...\"+string.toLowerCase();\n",
    "    return console.log(sentence);\n",
    "  }\n",
    "  \n",
    "  echo(\"Mom!\"); // => prints \"MOM! ... Mom! ... mom!\"\n",
    "  echo(\"hey\"); // => prints \"HEY ... hey ... hey\"\n",
    "  echo(\"JUMp\"); // => prints \"JUMP ... JUMp ... jump\""
   ]
  },
  {
   "cell_type": "code",
   "execution_count": 3,
   "metadata": {},
   "outputs": [
    {
     "name": "stdout",
     "output_type": "stream",
     "text": [
      "MOM!...Mom!...mom!\n"
     ]
    }
   ],
   "source": [
    "def echo(string):\n",
    "    sentence = string.upper() + \"...\" + string + \"...\" + string.lower()\n",
    "    return sentence\n",
    "print(echo(\"Mom!\"))"
   ]
  },
  {
   "attachments": {},
   "cell_type": "markdown",
   "metadata": {},
   "source": [
    "# Control Flow"
   ]
  },
  {
   "attachments": {},
   "cell_type": "markdown",
   "metadata": {},
   "source": [
    "## Conditionals"
   ]
  },
  {
   "attachments": {},
   "cell_type": "markdown",
   "metadata": {},
   "source": [
    "### Is Five"
   ]
  },
  {
   "cell_type": "code",
   "execution_count": 1,
   "metadata": {
    "vscode": {
     "languageId": "javascript"
    }
   },
   "outputs": [
    {
     "name": "stdout",
     "output_type": "stream",
     "text": [
      "true\n",
      "false\n"
     ]
    }
   ],
   "source": [
    "%%script node\n",
    "function isFive(num) {\n",
    "    if (num === 5){\n",
    "        return true;\n",
    "    } else {\n",
    "        return false;\n",
    "    }\n",
    "\n",
    "}\n",
    "\n",
    "console.log(isFive(5)); // => true\n",
    "console.log(isFive(13)); // => false"
   ]
  },
  {
   "cell_type": "code",
   "execution_count": 1,
   "metadata": {},
   "outputs": [
    {
     "name": "stdout",
     "output_type": "stream",
     "text": [
      "True\n"
     ]
    }
   ],
   "source": [
    "def isFive(num):\n",
    "    if (num == 5):\n",
    "        return True\n",
    "    else:\n",
    "        return False\n",
    "\n",
    "print(isFive(5))"
   ]
  },
  {
   "cell_type": "code",
   "execution_count": 2,
   "metadata": {
    "vscode": {
     "languageId": "javascript"
    }
   },
   "outputs": [
    {
     "name": "stdout",
     "output_type": "stream",
     "text": [
      "false\n",
      "true\n",
      "true\n"
     ]
    }
   ],
   "source": [
    "%%script node\n",
    "function isOdd(num) {\n",
    "    // your code here!\n",
    "    if(num%2 === 1 || num%2 === -1){\n",
    "        return true;\n",
    "    } else{\n",
    "        return false;\n",
    "    }\n",
    "  }\n",
    "  \n",
    "  console.log(isOdd(2)); // => false\n",
    "  console.log(isOdd(5)); // => true\n",
    "  console.log(isOdd(-17)); // => true"
   ]
  },
  {
   "cell_type": "code",
   "execution_count": 5,
   "metadata": {},
   "outputs": [
    {
     "name": "stdout",
     "output_type": "stream",
     "text": [
      "False\n",
      "True\n"
     ]
    }
   ],
   "source": [
    "def isOdd(num):\n",
    "    return (num % 2 == 1 or num % 2 == -1)\n",
    "print(isOdd(2))\n",
    "print(isOdd(-17))"
   ]
  },
  {
   "cell_type": "code",
   "execution_count": 3,
   "metadata": {
    "vscode": {
     "languageId": "javascript"
    }
   },
   "outputs": [
    {
     "name": "stdout",
     "output_type": "stream",
     "text": [
      "true\n",
      "true\n",
      "false\n"
     ]
    }
   ],
   "source": [
    "%%script node\n",
    "function isSubstring(searchString, subString) {\n",
    "    // your code here...\n",
    "    let lowerSearchString = searchString.toLowerCase();\n",
    "    let lowerSubString = subString.toLowerCase();\n",
    "    if(lowerSearchString.indexOf(lowerSubString) !== -1){\n",
    "        return true\n",
    "    } else{\n",
    "        return false\n",
    "    }\n",
    "  }\n",
    "  \n",
    "  console.log(isSubstring(\"The cat went to the store\", \"he cat went\")); // => true\n",
    "  console.log(isSubstring(\"Time to program\", \"time\")); // => true\n",
    "  console.log(isSubstring(\"Jump for joy\", \"joys\")); // => false"
   ]
  },
  {
   "cell_type": "code",
   "execution_count": 14,
   "metadata": {},
   "outputs": [
    {
     "name": "stdout",
     "output_type": "stream",
     "text": [
      "True\n",
      "False\n"
     ]
    }
   ],
   "source": [
    "def isSubstring(searchString, subString):\n",
    "    lowerSearchString = searchString.lower()\n",
    "    lowerSubString = subString.lower()\n",
    "    return (lowerSubString in lowerSearchString)\n",
    "\n",
    "print(isSubstring(\"Time to program\", \"time\"))\n",
    "print(isSubstring(\"Jump for joy\", \"joys\"))"
   ]
  },
  {
   "attachments": {},
   "cell_type": "markdown",
   "metadata": {},
   "source": [
    "## Loops"
   ]
  },
  {
   "attachments": {},
   "cell_type": "markdown",
   "metadata": {},
   "source": [
    "### Log Between"
   ]
  },
  {
   "cell_type": "code",
   "execution_count": 2,
   "metadata": {
    "vscode": {
     "languageId": "javascript"
    }
   },
   "outputs": [
    {
     "name": "stdout",
     "output_type": "stream",
     "text": [
      "\u001b[33m-1\u001b[39m\n",
      "\u001b[33m0\u001b[39m\n",
      "\u001b[33m1\u001b[39m\n",
      "\u001b[33m2\u001b[39m\n",
      "\u001b[33m4\u001b[39m\n",
      "\u001b[33m5\u001b[39m\n",
      "\u001b[33m6\u001b[39m\n"
     ]
    }
   ],
   "source": [
    "%%script node\n",
    "function logBetween(lowNum, highNum){\n",
    "    for (let i = lowNum; i <= highNum; i++){\n",
    "        console.log(i);\n",
    "    }\n",
    "}\n",
    "\n",
    "// Examples:\n",
    "logBetween(-1, 2); // prints out:\n",
    "// -1\n",
    "// 0\n",
    "// 1\n",
    "// 2\n",
    "\n",
    "logBetween(14, 6); // => prints nothing\n",
    "\n",
    "logBetween(4, 6); // prints out:\n",
    "// 4\n",
    "// 5\n",
    "// 6\n"
   ]
  },
  {
   "cell_type": "code",
   "execution_count": 3,
   "metadata": {},
   "outputs": [
    {
     "name": "stdout",
     "output_type": "stream",
     "text": [
      "-1\n",
      "0\n",
      "1\n",
      "2\n"
     ]
    }
   ],
   "source": [
    "def logBetween(lowNum, highNum):\n",
    "    for i in range(lowNum, highNum + 1):\n",
    "        print(i)\n",
    "        i = i + 1\n",
    "\n",
    "logBetween(-1, 2)"
   ]
  },
  {
   "attachments": {},
   "cell_type": "markdown",
   "metadata": {},
   "source": [
    "### Print Fives"
   ]
  },
  {
   "cell_type": "code",
   "execution_count": 4,
   "metadata": {
    "vscode": {
     "languageId": "javascript"
    }
   },
   "outputs": [
    {
     "name": "stdout",
     "output_type": "stream",
     "text": [
      "\u001b[33m0\u001b[39m\n",
      "\u001b[33m5\u001b[39m\n",
      "\u001b[33m10\u001b[39m\n",
      "\u001b[33m15\u001b[39m\n"
     ]
    }
   ],
   "source": [
    "%%script node\n",
    "function printFives(max){\n",
    "    for (let i = 0; i*5 < max; i++){\n",
    "        console.log(i*5);\n",
    "    }\n",
    "}\n",
    "\n",
    "// Example:\n",
    "\n",
    "printFives(20) // prints out:\n",
    "// 0\n",
    "// 5\n",
    "// 10\n",
    "// 15"
   ]
  },
  {
   "cell_type": "code",
   "execution_count": 6,
   "metadata": {},
   "outputs": [
    {
     "name": "stdout",
     "output_type": "stream",
     "text": [
      "0\n",
      "5\n",
      "10\n",
      "15\n",
      "20\n",
      "25\n"
     ]
    }
   ],
   "source": [
    "def printFives(max):\n",
    "    i = 0\n",
    "    while (i*5 < max):\n",
    "        print(i*5)\n",
    "        i = i + 1\n",
    "printFives(30)"
   ]
  },
  {
   "attachments": {},
   "cell_type": "markdown",
   "metadata": {},
   "source": [
    "### Log Between Stepper"
   ]
  },
  {
   "cell_type": "code",
   "execution_count": 7,
   "metadata": {
    "vscode": {
     "languageId": "javascript"
    }
   },
   "outputs": [
    {
     "name": "stdout",
     "output_type": "stream",
     "text": [
      "\u001b[33m5\u001b[39m\n",
      "\u001b[33m6\u001b[39m\n",
      "\u001b[33m7\u001b[39m\n",
      "\u001b[33m8\u001b[39m\n",
      "\u001b[33m9\u001b[39m\n",
      "\u001b[33m-10\u001b[39m\n",
      "\u001b[33m-5\u001b[39m\n",
      "\u001b[33m0\u001b[39m\n",
      "\u001b[33m5\u001b[39m\n",
      "\u001b[33m10\u001b[39m\n",
      "\u001b[33m15\u001b[39m\n"
     ]
    }
   ],
   "source": [
    "%%script node\n",
    "function logBetweenStepper(min, max, step){\n",
    "    for (let i = min; i <= max; i = i + step){\n",
    "        console.log(i);\n",
    "    }\n",
    "}\n",
    "\n",
    "// Examples:\n",
    "logBetweenStepper(5, 9, 1); // prints out:\n",
    "// 5\n",
    "// 6\n",
    "// 7\n",
    "// 8\n",
    "// 9\n",
    "\n",
    "\n",
    "logBetweenStepper(-10, 15, 5)  // prints out:\n",
    "// -10\n",
    "// -5\n",
    "// 0\n",
    "// 5\n",
    "// 10\n",
    "// 15"
   ]
  },
  {
   "cell_type": "code",
   "execution_count": 11,
   "metadata": {
    "vscode": {
     "languageId": "javascript"
    }
   },
   "outputs": [
    {
     "name": "stdout",
     "output_type": "stream",
     "text": [
      "\u001b[33m-10\u001b[39m\n",
      "\u001b[33m-5\u001b[39m\n",
      "\u001b[33m0\u001b[39m\n",
      "\u001b[33m5\u001b[39m\n",
      "\u001b[33m10\u001b[39m\n",
      "\u001b[33m15\u001b[39m\n"
     ]
    }
   ],
   "source": [
    "%%script node\n",
    "function logBetweenStepper(min, max, step) {\n",
    "    let i = min;\n",
    "    while (i <= max) {\n",
    "        console.log(i);\n",
    "        i = i + step;\n",
    "    }\n",
    "}\n",
    "logBetweenStepper(-10, 15, 5);"
   ]
  },
  {
   "attachments": {},
   "cell_type": "markdown",
   "metadata": {},
   "source": [
    "### Fizz Buzz"
   ]
  },
  {
   "cell_type": "code",
   "execution_count": 12,
   "metadata": {
    "vscode": {
     "languageId": "javascript"
    }
   },
   "outputs": [
    {
     "name": "stdout",
     "output_type": "stream",
     "text": [
      "\u001b[33m3\u001b[39m\n",
      "\u001b[33m5\u001b[39m\n",
      "\u001b[33m6\u001b[39m\n",
      "\u001b[33m9\u001b[39m\n",
      "\u001b[33m10\u001b[39m\n",
      "\u001b[33m12\u001b[39m\n",
      "\u001b[33m18\u001b[39m\n"
     ]
    }
   ],
   "source": [
    "%%script node\n",
    "function fizzBuzz(max){\n",
    "    for (let i = 1; i < max; i++){\n",
    "        if (i%3 === 0 && i%5 !== 0){\n",
    "            console.log(i)\n",
    "        } else if (i%3 !== 0 && i%5 === 0){\n",
    "            console.log(i)\n",
    "        }\n",
    "    }\n",
    "}\n",
    "// Examples:\n",
    "\n",
    "fizzBuzz(20); // prints out:\n",
    "// 3\n",
    "// 5\n",
    "// 6\n",
    "// 9\n",
    "// 10\n",
    "// 12\n",
    "// 18"
   ]
  },
  {
   "cell_type": "code",
   "execution_count": 16,
   "metadata": {},
   "outputs": [
    {
     "name": "stdout",
     "output_type": "stream",
     "text": [
      "3\n",
      "5\n",
      "6\n",
      "9\n",
      "10\n",
      "12\n",
      "18\n"
     ]
    }
   ],
   "source": [
    "def fizzBuzz(max):\n",
    "    for i in range(max):\n",
    "        if (i % 3 == 0 and i % 5 != 0):\n",
    "            print(i)\n",
    "        elif (i % 3 != 0 and i % 5 == 0):\n",
    "            print(i)\n",
    "\n",
    "fizzBuzz(20)"
   ]
  },
  {
   "cell_type": "markdown",
   "metadata": {},
   "source": [
    "## Arrays"
   ]
  },
  {
   "cell_type": "markdown",
   "metadata": {},
   "source": [
    "### Add Arrays"
   ]
  },
  {
   "cell_type": "code",
   "execution_count": null,
   "metadata": {
    "vscode": {
     "languageId": "javascript"
    }
   },
   "outputs": [],
   "source": [
    "%%script node\n",
    "function combineArray(array1, array2) {\n",
    "    // your code here...\n",
    "    return array1.concat(array2);\n",
    "}\n",
    "\n",
    "console.log(combineArray([1, 2], [3, 4])); // => [1, 2, 3, 4]\n",
    "console.log(combineArray([17, 5], [6, 7]));  // => [17, 5, 6, 7]"
   ]
  },
  {
   "cell_type": "markdown",
   "metadata": {},
   "source": [
    "### Doubler"
   ]
  },
  {
   "cell_type": "code",
   "execution_count": null,
   "metadata": {
    "vscode": {
     "languageId": "javascript"
    }
   },
   "outputs": [],
   "source": [
    "%%script node\n",
    "function doubler(numbers) {\n",
    "    // your code here...\n",
    "    let i = 0;\n",
    "    let newnumbers = [];\n",
    "    while (i < numbers.length){\n",
    "        newnumbers = newnumbers.concat(numbers[i]*2);\n",
    "        i++;\n",
    "    }\n",
    "    return newnumbers\n",
    "}\n",
    "\n",
    "console.log(doubler([1, 2, 3, 4])); // => [2, 4, 6, 8]\n",
    "console.log(doubler([7, 1, 8])); // => [14, 2, 16]"
   ]
  },
  {
   "cell_type": "code",
   "execution_count": null,
   "metadata": {
    "vscode": {
     "languageId": "javascript"
    }
   },
   "outputs": [],
   "source": [
    "%%script node\n",
    "function countVowels(word) {\n",
    "    // your code here...\n",
    "    let i = 0;\n",
    "    let vowel = [];\n",
    "    while (i < word.length){\n",
    "        if (word[i] === \"a\" || word[i] === \"e\" || word[i] === \"i\"|| word[i] === \"o\" || word[i] === \"u\"){\n",
    "            vowel = vowel.concat(word[i])\n",
    "        }\n",
    "        i++;\n",
    "    }\n",
    "    return vowel.length\n",
    "  };\n",
    "  \n",
    "  console.log(countVowels(\"bootcamp\")); // => 3\n",
    "  console.log(countVowels(\"apple\")); // => 2\n",
    "  console.log(countVowels(\"pizza\")); // => 2"
   ]
  }
 ],
 "metadata": {
  "kernelspec": {
   "display_name": "Python 3",
   "language": "python",
   "name": "python3"
  },
  "language_info": {
   "codemirror_mode": {
    "name": "ipython",
    "version": 3
   },
   "file_extension": ".py",
   "mimetype": "text/x-python",
   "name": "python",
   "nbconvert_exporter": "python",
   "pygments_lexer": "ipython3",
   "version": "3.9.6"
  }
 },
 "nbformat": 4,
 "nbformat_minor": 2
}
