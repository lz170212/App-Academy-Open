{
 "cells": [
  {
   "cell_type": "markdown",
   "metadata": {},
   "source": [
    "# JavaScript Fundamentals"
   ]
  },
  {
   "cell_type": "markdown",
   "metadata": {},
   "source": [
    "## Data Types"
   ]
  },
  {
   "cell_type": "markdown",
   "metadata": {},
   "source": [
    "### Hello World!"
   ]
  },
  {
   "cell_type": "code",
   "execution_count": 1,
   "metadata": {
    "vscode": {
     "languageId": "javascript"
    }
   },
   "outputs": [
    {
     "name": "stdout",
     "output_type": "stream",
     "text": [
      "Hello World!\n"
     ]
    }
   ],
   "source": [
    "%%script node\n",
    "console.log('Hello World!')"
   ]
  },
  {
   "cell_type": "code",
   "execution_count": 2,
   "metadata": {},
   "outputs": [
    {
     "name": "stdout",
     "output_type": "stream",
     "text": [
      "Hello World!\n"
     ]
    }
   ],
   "source": [
    "print('Hello World!')"
   ]
  },
  {
   "cell_type": "markdown",
   "metadata": {},
   "source": [
    "### Numbers Exercise"
   ]
  },
  {
   "cell_type": "code",
   "execution_count": 1,
   "metadata": {
    "vscode": {
     "languageId": "javascript"
    }
   },
   "outputs": [
    {
     "name": "stdout",
     "output_type": "stream",
     "text": [
      "6.5\n",
      "2\n",
      "1\n",
      "1\n",
      "2\n",
      "1\n"
     ]
    }
   ],
   "source": [
    "%%script node\n",
    "// Example:\n",
    "console.log(4 + 2.5)   // 6.5\n",
    "\n",
    "// Write 5 more expressions below:\n",
    "console.log(1 + 1) // 2\n",
    "console.log(2 - 1) // 1\n",
    "console.log(1 * 1) // 1\n",
    "console.log(2/1) // 2\n",
    "console.log(5 % 2) // 1"
   ]
  },
  {
   "cell_type": "code",
   "execution_count": 2,
   "metadata": {},
   "outputs": [
    {
     "name": "stdout",
     "output_type": "stream",
     "text": [
      "6.5\n",
      "2\n",
      "1\n",
      "1\n",
      "2.0\n",
      "1\n"
     ]
    }
   ],
   "source": [
    "# Example:\n",
    "print(4 + 2.5)  \n",
    "\n",
    "# Write 5 more expressions below:\n",
    "print(1 + 1) \n",
    "print(2 - 1) \n",
    "print(1 * 1) \n",
    "print(2/1) \n",
    "print(5 % 2) "
   ]
  },
  {
   "cell_type": "markdown",
   "metadata": {},
   "source": [
    "### Boolean Exercise"
   ]
  },
  {
   "cell_type": "code",
   "execution_count": 4,
   "metadata": {
    "vscode": {
     "languageId": "javascript"
    }
   },
   "outputs": [
    {
     "name": "stdout",
     "output_type": "stream",
     "text": [
      "false\n",
      "false\n",
      "true\n",
      "true\n"
     ]
    }
   ],
   "source": [
    "%%script node\n",
    "// Example:\n",
    "console.log(false || false)   // false\n",
    "\n",
    "// Write 3 more expressions below:\n",
    "console.log(true && false) // false\n",
    "console.log(true || false) // true\n",
    "console.log(!(true && false)) // true"
   ]
  },
  {
   "cell_type": "code",
   "execution_count": 3,
   "metadata": {},
   "outputs": [
    {
     "name": "stdout",
     "output_type": "stream",
     "text": [
      "False\n",
      "False\n",
      "True\n",
      "True\n"
     ]
    }
   ],
   "source": [
    "# Example:\n",
    "print(False or False)   \n",
    "\n",
    "# Write 3 more expressions below:\n",
    "print(True and False) \n",
    "print(True or False)\n",
    "print(not(True and False))"
   ]
  },
  {
   "cell_type": "markdown",
   "metadata": {},
   "source": [
    "### Variables Practice"
   ]
  },
  {
   "cell_type": "code",
   "execution_count": 1,
   "metadata": {
    "vscode": {
     "languageId": "javascript"
    }
   },
   "outputs": [
    {
     "name": "stdout",
     "output_type": "stream",
     "text": [
      "XXX XXX undefined\n",
      "XXX XXX 18\n"
     ]
    }
   ],
   "source": [
    "%%script node\n",
    "// 1. Declare a variable called `firstName` and assign it your first name as a string:\n",
    "let firstName = \"XXX\";\n",
    "\n",
    "// 2. Declare a variable called `lastName` and assign it your last name as a string:\n",
    "let lastName = \"XXX\";\n",
    "\n",
    "// 3. Declare a variable called `age`:\n",
    "let age;\n",
    "\n",
    "// 4. Print out the `firstName`, `lastName`, and `age` variables. What do you\n",
    "//    expect them to be when they get printed?\n",
    "console.log(firstName, lastName, age)\n",
    "\n",
    "// 5. Assign the `age` variable to a number:\n",
    "age = 18;\n",
    "\n",
    "// 6. Print out the `firstName`, `lastName`, and `age` variables. What do you\n",
    "//    expect them to be when they get printed?\n",
    "console.log(firstName, lastName, age)"
   ]
  },
  {
   "cell_type": "code",
   "execution_count": 3,
   "metadata": {},
   "outputs": [
    {
     "name": "stdout",
     "output_type": "stream",
     "text": [
      "XXX XXX 18\n"
     ]
    }
   ],
   "source": [
    "firstName = \"XXX\"\n",
    "lastName = \"XXX\"\n",
    "age = 18\n",
    "print(firstName, lastName, age)"
   ]
  },
  {
   "cell_type": "markdown",
   "metadata": {},
   "source": [
    "## Intro to Functions"
   ]
  },
  {
   "cell_type": "markdown",
   "metadata": {},
   "source": [
    "### Goodbye"
   ]
  },
  {
   "cell_type": "code",
   "execution_count": 3,
   "metadata": {
    "vscode": {
     "languageId": "javascript"
    }
   },
   "outputs": [
    {
     "name": "stdout",
     "output_type": "stream",
     "text": [
      "Bye Daniel.\n",
      "Bye Mark.\n",
      "Bye Beyonce.\n"
     ]
    }
   ],
   "source": [
    "%%script node\n",
    "function goodbye(name) {\n",
    "    // your code here...\n",
    "    return \"Bye\"+\" \"+name+\".\";\n",
    "  }\n",
    "  \n",
    "  console.log(goodbye(\"Daniel\")); // => \"Bye Daniel.\"\n",
    "  console.log(goodbye(\"Mark\")); // => \"Bye Mark.\"\n",
    "  console.log(goodbye(\"Beyonce\")); // => \"Bye Beyonce.\""
   ]
  },
  {
   "cell_type": "code",
   "execution_count": 4,
   "metadata": {},
   "outputs": [
    {
     "name": "stdout",
     "output_type": "stream",
     "text": [
      "Bye Daniel.\n",
      "Bye Mark.\n",
      "Bye Beyonce.\n"
     ]
    }
   ],
   "source": [
    "def goodbye(name):\n",
    "    return \"Bye\"+\" \"+name+\".\"\n",
    "    \n",
    "print(goodbye(\"Daniel\"))\n",
    "print(goodbye(\"Mark\"))\n",
    "print(goodbye(\"Beyonce\"))"
   ]
  },
  {
   "cell_type": "markdown",
   "metadata": {},
   "source": [
    "### Muscle Memory"
   ]
  },
  {
   "cell_type": "code",
   "execution_count": 5,
   "metadata": {
    "vscode": {
     "languageId": "javascript"
    }
   },
   "outputs": [
    {
     "name": "stdout",
     "output_type": "stream",
     "text": [
      "Hello, world. How are you?\n",
      "Good Morning, Momo. What's up?\n",
      "Please double check, Jay. There's something wrong.\n"
     ]
    }
   ],
   "source": [
    "%%script node\n",
    "function sayHello(name) {\n",
    "  let msg = \"Hello, \" + name + \". How are you?\";\n",
    "  return msg;\n",
    "}\n",
    "\n",
    "console.log(sayHello(\"world\"));\n",
    "\n",
    "function sayGoodMorning(name) {\n",
    "  let msg = \"Good Morning, \" + name + \". What's up?\";\n",
    "  return msg;\n",
    "}\n",
    "\n",
    "console.log(sayGoodMorning(\"Momo\"));\n",
    "\n",
    "function sayDoubleCheck(name) {\n",
    "  let msg = \"Please double check, \" + name + \". There's something wrong.\";\n",
    "  return msg;\n",
    "}\n",
    "\n",
    "console.log(sayDoubleCheck(\"Jay\"));"
   ]
  },
  {
   "cell_type": "code",
   "execution_count": 6,
   "metadata": {},
   "outputs": [
    {
     "name": "stdout",
     "output_type": "stream",
     "text": [
      "Hello, Jay. How are you?\n"
     ]
    }
   ],
   "source": [
    "def sayHello(name):\n",
    "    msg = \"Hello, \" + name + \". How are you?\"\n",
    "    return msg\n",
    "print(sayHello(\"Jay\"))"
   ]
  },
  {
   "cell_type": "markdown",
   "metadata": {},
   "source": [
    "### Plus 5"
   ]
  },
  {
   "cell_type": "code",
   "execution_count": 7,
   "metadata": {
    "vscode": {
     "languageId": "javascript"
    }
   },
   "outputs": [
    {
     "name": "stdout",
     "output_type": "stream",
     "text": [
      "15\n",
      "7\n",
      "-3\n"
     ]
    }
   ],
   "source": [
    "%%script node\n",
    "function plusFive(num) {\n",
    "  // your code here...\n",
    "  let result = num + 5;\n",
    "  return result;\n",
    "}\n",
    "\n",
    "console.log(plusFive(10));  // => 15\n",
    "console.log(plusFive(2));   // => 7\n",
    "console.log(plusFive(-8));  // => -3"
   ]
  },
  {
   "cell_type": "code",
   "execution_count": 8,
   "metadata": {},
   "outputs": [
    {
     "name": "stdout",
     "output_type": "stream",
     "text": [
      "15\n"
     ]
    }
   ],
   "source": [
    "def plusFive(num):\n",
    "    result = num + 5\n",
    "    return result\n",
    "print(plusFive(10))"
   ]
  },
  {
   "cell_type": "markdown",
   "metadata": {},
   "source": [
    "### Call This Function"
   ]
  },
  {
   "cell_type": "code",
   "execution_count": 11,
   "metadata": {
    "vscode": {
     "languageId": "javascript"
    }
   },
   "outputs": [
    {
     "name": "stdout",
     "output_type": "stream",
     "text": [
      "Music is cool!\n",
      "JavaScript is cool!\n",
      "The world is cool!\n"
     ]
    }
   ],
   "source": [
    "%%script node\n",
    "function isCool(string) {\n",
    "  let coolSentence = string + \" is cool!\"\n",
    "  console.log(coolSentence)\n",
    "  return coolSentence\n",
    "}\n",
    "\n",
    "// Call the above function passing in the below arguments:\n",
    "// Music\n",
    "// JavaScript\n",
    "// The world\n",
    "isCool(\"Music\")\n",
    "isCool(\"JavaScript\")\n",
    "isCool(\"The world\")"
   ]
  },
  {
   "cell_type": "code",
   "execution_count": 15,
   "metadata": {},
   "outputs": [
    {
     "name": "stdout",
     "output_type": "stream",
     "text": [
      "Music is cool!\n",
      "Python is cool!\n"
     ]
    }
   ],
   "source": [
    "def isCool(string):\n",
    "    sentence = string + \" is cool!\"\n",
    "    return sentence\n",
    "print(isCool(\"Music\"))\n",
    "print(isCool(\"Python\"))"
   ]
  },
  {
   "cell_type": "markdown",
   "metadata": {},
   "source": [
    "### Average of Two"
   ]
  },
  {
   "cell_type": "code",
   "execution_count": null,
   "metadata": {
    "vscode": {
     "languageId": "javascript"
    }
   },
   "outputs": [],
   "source": [
    "%%script node\n",
    "function averageOfTwo(num1, num2) {\n",
    "  // your code here...\n",
    "  let result = (num1 + num2)/2;\n",
    "  return result;\n",
    "}\n",
    "\n",
    "console.log(averageOfTwo(3, 7)); // => 5.0\n",
    "console.log(averageOfTwo(16, 5)); // => 10.5\n",
    "console.log(averageOfTwo(2, 7.5)); // => 4.75"
   ]
  },
  {
   "cell_type": "code",
   "execution_count": 16,
   "metadata": {},
   "outputs": [
    {
     "name": "stdout",
     "output_type": "stream",
     "text": [
      "5.0\n"
     ]
    }
   ],
   "source": [
    "def averageOfTwo(num1, num2):\n",
    "    result = (num1 + num2)/2\n",
    "    return result\n",
    "print(averageOfTwo(3, 7))"
   ]
  },
  {
   "cell_type": "markdown",
   "metadata": {},
   "source": [
    "### Hello"
   ]
  },
  {
   "cell_type": "code",
   "execution_count": 17,
   "metadata": {
    "vscode": {
     "languageId": "javascript"
    }
   },
   "outputs": [
    {
     "name": "stdout",
     "output_type": "stream",
     "text": [
      "Hello, cat\n",
      "Hello, Helen\n",
      "Hello, Sting\n"
     ]
    }
   ],
   "source": [
    "%%script node\n",
    "function hello(str) {\n",
    "  // your code here...\n",
    "  console.log(\"Hello, \"+str);\n",
    "}\n",
    "\n",
    "hello(\"cat\"); // prints \"Hello, cat\"\n",
    "hello(\"Helen\"); // prints \"Hello, Helen\"\n",
    "hello(\"Sting\"); // prints \"Hello, Sting\""
   ]
  },
  {
   "cell_type": "code",
   "execution_count": 18,
   "metadata": {},
   "outputs": [
    {
     "name": "stdout",
     "output_type": "stream",
     "text": [
      "Hello, cat\n"
     ]
    }
   ],
   "source": [
    "def hello(str):\n",
    "    print(\"Hello, \"+str)\n",
    "hello(\"cat\")"
   ]
  },
  {
   "cell_type": "markdown",
   "metadata": {},
   "source": [
    "### Divide by Three"
   ]
  },
  {
   "cell_type": "code",
   "execution_count": null,
   "metadata": {
    "vscode": {
     "languageId": "javascript"
    }
   },
   "outputs": [],
   "source": [
    "%%script node\n",
    "function divideByThree(num) {\n",
    "  // your code here...\n",
    "  return num/3;\n",
    "}\n",
    "\n",
    "console.log(divideByThree(9)); // => 3.0\n",
    "console.log(divideByThree(15)); // => 5.0\n",
    "console.log(divideByThree(98)); // => 32.666666666666664"
   ]
  },
  {
   "cell_type": "code",
   "execution_count": 19,
   "metadata": {},
   "outputs": [
    {
     "name": "stdout",
     "output_type": "stream",
     "text": [
      "5.0\n"
     ]
    }
   ],
   "source": [
    "def divideByThree(num):\n",
    "    return num/3\n",
    "\n",
    "print(divideByThree(15))"
   ]
  },
  {
   "cell_type": "markdown",
   "metadata": {},
   "source": [
    "### Whisper"
   ]
  },
  {
   "cell_type": "code",
   "execution_count": 20,
   "metadata": {
    "vscode": {
     "languageId": "javascript"
    }
   },
   "outputs": [
    {
     "name": "stdout",
     "output_type": "stream",
     "text": [
      "...hey buddy...\n",
      "...yea! that was fun...\n"
     ]
    }
   ],
   "source": [
    "%%script node\n",
    "function whisper(str) {\n",
    "    // your code here...\n",
    "    let sentence = \"...\"+str.toLowerCase()+\"...\";\n",
    "    return sentence;\n",
    "  }\n",
    "  \n",
    "  console.log(whisper(\"Hey Buddy\")); // => \"...hey buddy...\"\n",
    "  console.log(whisper(\"YEA! that was fun\")); // => \"...yea! that was fun...\""
   ]
  },
  {
   "cell_type": "code",
   "execution_count": 21,
   "metadata": {},
   "outputs": [
    {
     "name": "stdout",
     "output_type": "stream",
     "text": [
      "...hey buddy...\n"
     ]
    }
   ],
   "source": [
    "def whisper(str):\n",
    "    sentence = \"...\"+str.lower()+\"...\"\n",
    "    return sentence\n",
    "print(whisper(\"Hey Buddy\"))"
   ]
  },
  {
   "cell_type": "markdown",
   "metadata": {},
   "source": [
    "### Average of Four"
   ]
  },
  {
   "cell_type": "code",
   "execution_count": null,
   "metadata": {
    "vscode": {
     "languageId": "javascript"
    }
   },
   "outputs": [],
   "source": [
    "function averageOfFour(num1, num2, num3, num4){\n",
    "    let average = (num1 + num2 + num3 + num4)/4;\n",
    "    return average;\n",
    "}\n",
    "\n",
    "console.log(averageOfFour(10, 10, 15, 5)); // => 10\n",
    "console.log(averageOfFour(3, 10, 11, 4)); // => 7\n",
    "console.log(averageOfFour(1, 2, 3, 4)); // => 2.5"
   ]
  },
  {
   "cell_type": "markdown",
   "metadata": {},
   "source": [
    "### Yell"
   ]
  },
  {
   "cell_type": "code",
   "execution_count": null,
   "metadata": {
    "vscode": {
     "languageId": "javascript"
    }
   },
   "outputs": [],
   "source": [
    "function yell(str) {\n",
    "  // your code here...  \n",
    "  let sentence = str.toUpperCase()+\"!!!\";\n",
    "  return sentence;\n",
    "}\n",
    "\n",
    "console.log(yell(\"I want to go to the store\")); // => \"I WANT TO GO TO THE STORE!!!\"\n",
    "console.log(yell(\"Time to program\")); // => \"TIME TO PROGRAM!!!\""
   ]
  },
  {
   "cell_type": "markdown",
   "metadata": {},
   "source": [
    "### Echo"
   ]
  }
 ],
 "metadata": {
  "kernelspec": {
   "display_name": "Python 3",
   "language": "python",
   "name": "python3"
  },
  "language_info": {
   "codemirror_mode": {
    "name": "ipython",
    "version": 3
   },
   "file_extension": ".py",
   "mimetype": "text/x-python",
   "name": "python",
   "nbconvert_exporter": "python",
   "pygments_lexer": "ipython3",
   "version": "3.10.7"
  }
 },
 "nbformat": 4,
 "nbformat_minor": 2
}
