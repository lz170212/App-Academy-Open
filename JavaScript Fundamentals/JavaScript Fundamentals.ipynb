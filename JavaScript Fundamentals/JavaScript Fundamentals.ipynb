{
 "cells": [
  {
   "cell_type": "markdown",
   "metadata": {},
   "source": [
    "# JavaScript Fundamentals"
   ]
  },
  {
   "cell_type": "markdown",
   "metadata": {},
   "source": [
    "## Hello World!"
   ]
  },
  {
   "cell_type": "code",
   "execution_count": 1,
   "metadata": {
    "vscode": {
     "languageId": "javascript"
    }
   },
   "outputs": [
    {
     "name": "stdout",
     "output_type": "stream",
     "text": [
      "Hello World!\n"
     ]
    }
   ],
   "source": [
    "%%script node\n",
    "console.log('Hello World!')"
   ]
  },
  {
   "cell_type": "code",
   "execution_count": 2,
   "metadata": {},
   "outputs": [
    {
     "name": "stdout",
     "output_type": "stream",
     "text": [
      "Hello World!\n"
     ]
    }
   ],
   "source": [
    "print('Hello World!')"
   ]
  },
  {
   "cell_type": "markdown",
   "metadata": {},
   "source": [
    "## Numbers Exercise"
   ]
  },
  {
   "cell_type": "code",
   "execution_count": 1,
   "metadata": {
    "vscode": {
     "languageId": "javascript"
    }
   },
   "outputs": [
    {
     "name": "stdout",
     "output_type": "stream",
     "text": [
      "6.5\n",
      "2\n",
      "1\n",
      "1\n",
      "2\n",
      "1\n"
     ]
    }
   ],
   "source": [
    "%%script node\n",
    "// Example:\n",
    "console.log(4 + 2.5)   // 6.5\n",
    "\n",
    "// Write 5 more expressions below:\n",
    "console.log(1 + 1) // 2\n",
    "console.log(2 - 1) // 1\n",
    "console.log(1 * 1) // 1\n",
    "console.log(2/1) // 2\n",
    "console.log(5 % 2) // 1"
   ]
  },
  {
   "cell_type": "code",
   "execution_count": 2,
   "metadata": {},
   "outputs": [
    {
     "name": "stdout",
     "output_type": "stream",
     "text": [
      "6.5\n",
      "2\n",
      "1\n",
      "1\n",
      "2.0\n",
      "1\n"
     ]
    }
   ],
   "source": [
    "# Example:\n",
    "print(4 + 2.5)  \n",
    "\n",
    "# Write 5 more expressions below:\n",
    "print(1 + 1) \n",
    "print(2 - 1) \n",
    "print(1 * 1) \n",
    "print(2/1) \n",
    "print(5 % 2) "
   ]
  },
  {
   "cell_type": "markdown",
   "metadata": {},
   "source": [
    "## Boolean Exercise"
   ]
  },
  {
   "cell_type": "code",
   "execution_count": 4,
   "metadata": {
    "vscode": {
     "languageId": "javascript"
    }
   },
   "outputs": [
    {
     "name": "stdout",
     "output_type": "stream",
     "text": [
      "false\n",
      "false\n",
      "true\n",
      "true\n"
     ]
    }
   ],
   "source": [
    "%%script node\n",
    "// Example:\n",
    "console.log(false || false)   // false\n",
    "\n",
    "// Write 3 more expressions below:\n",
    "console.log(true && false) // false\n",
    "console.log(true || false) // true\n",
    "console.log(!(true && false)) // true"
   ]
  },
  {
   "cell_type": "code",
   "execution_count": 3,
   "metadata": {},
   "outputs": [
    {
     "name": "stdout",
     "output_type": "stream",
     "text": [
      "False\n",
      "False\n",
      "True\n",
      "True\n"
     ]
    }
   ],
   "source": [
    "# Example:\n",
    "print(False or False)   \n",
    "\n",
    "# Write 3 more expressions below:\n",
    "print(True and False) \n",
    "print(True or False)\n",
    "print(not(True and False))"
   ]
  },
  {
   "cell_type": "markdown",
   "metadata": {},
   "source": [
    "## Variables Practice"
   ]
  },
  {
   "cell_type": "code",
   "execution_count": 1,
   "metadata": {
    "vscode": {
     "languageId": "javascript"
    }
   },
   "outputs": [
    {
     "name": "stdout",
     "output_type": "stream",
     "text": [
      "XXX XXX undefined\n",
      "XXX XXX 18\n"
     ]
    }
   ],
   "source": [
    "%%script node\n",
    "// 1. Declare a variable called `firstName` and assign it your first name as a string:\n",
    "let firstName = \"XXX\";\n",
    "\n",
    "// 2. Declare a variable called `lastName` and assign it your last name as a string:\n",
    "let lastName = \"XXX\";\n",
    "\n",
    "// 3. Declare a variable called `age`:\n",
    "let age;\n",
    "\n",
    "// 4. Print out the `firstName`, `lastName`, and `age` variables. What do you\n",
    "//    expect them to be when they get printed?\n",
    "console.log(firstName, lastName, age)\n",
    "\n",
    "// 5. Assign the `age` variable to a number:\n",
    "age = 18;\n",
    "\n",
    "// 6. Print out the `firstName`, `lastName`, and `age` variables. What do you\n",
    "//    expect them to be when they get printed?\n",
    "console.log(firstName, lastName, age)"
   ]
  },
  {
   "cell_type": "code",
   "execution_count": 3,
   "metadata": {},
   "outputs": [
    {
     "name": "stdout",
     "output_type": "stream",
     "text": [
      "XXX XXX 18\n"
     ]
    }
   ],
   "source": [
    "firstName = \"XXX\"\n",
    "lastName = \"XXX\"\n",
    "age = 18\n",
    "print(firstName, lastName, age)"
   ]
  }
 ],
 "metadata": {
  "kernelspec": {
   "display_name": "Python 3",
   "language": "python",
   "name": "python3"
  },
  "language_info": {
   "codemirror_mode": {
    "name": "ipython",
    "version": 3
   },
   "file_extension": ".py",
   "mimetype": "text/x-python",
   "name": "python",
   "nbconvert_exporter": "python",
   "pygments_lexer": "ipython3",
   "version": "3.10.7"
  }
 },
 "nbformat": 4,
 "nbformat_minor": 2
}
